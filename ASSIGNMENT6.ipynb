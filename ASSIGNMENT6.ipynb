{
 "cells": [
  {
   "cell_type": "code",
   "execution_count": null,
   "id": "1aa573de",
   "metadata": {},
   "outputs": [],
   "source": [
    "#ASSIGNMENT 1.1"
   ]
  },
  {
   "cell_type": "code",
   "execution_count": 2,
   "id": "81282aae",
   "metadata": {},
   "outputs": [],
   "source": [
    "import json"
   ]
  },
  {
   "cell_type": "code",
   "execution_count": 5,
   "id": "7418d260",
   "metadata": {},
   "outputs": [],
   "source": [
    "l1=[{\"Name\":\"Samruddhi\",\"DOB\":\"17-12-2000\",\"Height\":180,\"City\":\"Panvel\",\"State\":\"Maharashtra\"},\n",
    "    {\"Name\":\"Satyam\",\"DOB\":\"25-05-2002\",\"Height\":168,\"City\":\"Satara\",\"State\":\"Maharashtra\"},\n",
    "    {\"Name\":\"Sameer\",\"DOB\":\"08-12-2002\",\"Height\":170,\"City\":\"Solapur\",\"State\":\"Maharashtra\"},\n",
    "    {\"Name\":\"Ashika\",\"DOB\":\"29-10-1998\",\"Height\":175,\"City\":\"Ghansoli\",\"State\":\"Maharashtra\"},\n",
    "    {\"Name\":\"Sanika\",\"DOB\":\"30-11-2002\",\"Height\":180,\"City\":\"Mumbai\",\"State\":\"Maharashtra\"}]\n",
    "\n",
    "with open(\"employee.json\",\"w\")as file_handler:\n",
    "    json.dump(l1,file_handler)"
   ]
  },
  {
   "cell_type": "code",
   "execution_count": 6,
   "id": "a04599aa",
   "metadata": {},
   "outputs": [
    {
     "name": "stdout",
     "output_type": "stream",
     "text": [
      "Name: Samruddhi, DOB: 17-12-2000, Height: 180, City: Panvel, State: Maharashtra\n",
      "Name: Satyam, DOB: 25-05-2002, Height: 168, City: Satara, State: Maharashtra\n",
      "Name: Sameer, DOB: 08-12-2002, Height: 170, City: Solapur, State: Maharashtra\n",
      "Name: Ashika, DOB: 29-10-1998, Height: 175, City: Ghansoli, State: Maharashtra\n",
      "Name: Sanika, DOB: 30-11-2002, Height: 180, City: Mumbai, State: Maharashtra\n"
     ]
    }
   ],
   "source": [
    "import json\n",
    "\n",
    "class Employee:\n",
    "    def __init__(self,name,dob,height,city,state):\n",
    "        self.name=name\n",
    "        self.dob=dob\n",
    "        self.height=height\n",
    "        self.city=city\n",
    "        self.state=state\n",
    "        \n",
    "with open(\"employee.json\")as file_handler:\n",
    "    employee_data=json.load(file_handler)\n",
    "employees=[]\n",
    "for employee in employee_data:\n",
    "    name=employee[\"Name\"]\n",
    "    dob=employee[\"DOB\"]\n",
    "    height=employee[\"Height\"]\n",
    "    city=employee[\"City\"]\n",
    "    state=employee[\"State\"]\n",
    "    employees.append(Employee(name,dob,height,city,state))\n",
    "\n",
    "for employee in employees:\n",
    "    print(f\"Name: {employee.name}, DOB: {employee.dob}, Height: {employee.height}, City: {employee.city}, State: {employee.state}\")\n",
    "    "
   ]
  },
  {
   "cell_type": "code",
   "execution_count": 7,
   "id": "6f6cdd81",
   "metadata": {},
   "outputs": [
    {
     "name": "stdout",
     "output_type": "stream",
     "text": [
      "json file created\n"
     ]
    }
   ],
   "source": [
    "#ASSIGNMNT 1.2\n",
    "states_capital={\n",
    "    \"Gujarat\":\"Gandhinagar\",\n",
    "    \"Assam\":\"Dispur\",\n",
    "    \"Goa\":\"Panji\",\n",
    "    \"Jharkhand\":\"Ranchi\",\n",
    "    \"Gujarat\":\"Gandhinagar\",\n",
    "    \"MAdhya Pradesh\":\"Bhopal\",\n",
    "    \"Maharashtra\":\"Mumbai\"\n",
    "}\n",
    "\n",
    "with open(\"states_capital.json\",\"w\") as file:\n",
    "    json.dump(states_capital,file)\n",
    "    print(\"json file created\")"
   ]
  },
  {
   "cell_type": "code",
   "execution_count": null,
   "id": "b92e05d2",
   "metadata": {},
   "outputs": [],
   "source": [
    "#ASSIGNMENT 2\n",
    "#creating the class\n",
    "\n",
    "class Dog:\n",
    "    def __init__(self, name, age, coat_color):\n",
    "        self.name = name\n",
    "        self.age = age\n",
    "        self.coat_color = coat_color\n",
    "\n",
    "    def description(self):\n",
    "        print(\"Name: \" + self.name)\n",
    "        print(\"Age: \" + str(self.age))\n",
    "\n",
    "    def get_info(self):\n",
    "        print(\"Coat Color: \" + self.coat_color)\n",
    "\n",
    "\n",
    "class JackRussellTerrier(Dog):\n",
    "    def __init__(self, name, age, coat_color):\n",
    "        super().__init__(name, age, coat_color)\n",
    "\n",
    "    def jump(self):\n",
    "        print(self.name + \" is jumping!\")\n",
    "\n",
    "    def fetch(self, item):\n",
    "        print(self.name + \" is fetching \" + item)\n",
    "\n",
    "\n",
    "class Bulldog(Dog):\n",
    "    def __init__(self, name, age, coat_color):\n",
    "        super().__init__(name, age, coat_color)\n",
    "\n",
    "    def bark(self):\n",
    "        print(self.name + \" is barking!\")\n",
    "\n",
    "    def sleep(self):\n",
    "        print(self.name + \" is sleeping!\")\n",
    "\n",
    "\n",
    "dog1 = Dog(\"STEVE\", 8, \"White\")\n",
    "dog2 = JackRussellTerrier(\"Rumi\", 2, \"Black\")\n",
    "dog3 = Bulldog(\"Bella\", 5, \"Cream\")"
   ]
  }
 ],
 "metadata": {
  "kernelspec": {
   "display_name": "Python 3 (ipykernel)",
   "language": "python",
   "name": "python3"
  },
  "language_info": {
   "codemirror_mode": {
    "name": "ipython",
    "version": 3
   },
   "file_extension": ".py",
   "mimetype": "text/x-python",
   "name": "python",
   "nbconvert_exporter": "python",
   "pygments_lexer": "ipython3",
   "version": "3.10.9"
  }
 },
 "nbformat": 4,
 "nbformat_minor": 5
}
